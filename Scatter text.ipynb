{
 "cells": [
  {
   "cell_type": "markdown",
   "id": "a6d2c387",
   "metadata": {},
   "source": [
    "<c><h1>Scatter Text <h1><c>"
   ]
  },
  {
   "cell_type": "code",
   "execution_count": null,
   "id": "00c97ea5",
   "metadata": {},
   "outputs": [],
   "source": []
  },
  {
   "cell_type": "code",
   "execution_count": 72,
   "id": "7fb10569",
   "metadata": {},
   "outputs": [
    {
     "name": "stdout",
     "output_type": "stream",
     "text": [
      "865\n",
      "1371\n",
      "2236\n"
     ]
    }
   ],
   "source": [
    "csv_lst_feb=['bitcoin_feb.csv','crypto_feb.csv','crypto_march.csv','block_feb.csv']\n",
    "csv_lst_march=['bitcoin_march.csv','crypto_march.csv','block_march.csv']\n",
    "\n",
    "def combine(csv_lst_month):\n",
    "    df_combined=pd.DataFrame()\n",
    "    for each_list in csv_lst_month:\n",
    "        df= pd.read_csv(each_list) \n",
    "        #print(df.head())\n",
    "        df_combined=df_combined.append(df)\n",
    "        df_combined=df_combined[['id','date','hashtags','tweet']]\n",
    "    return df_combined\n",
    "df_feb=combine(csv_lst_feb)\n",
    "df_march=combine(csv_lst_march)\n",
    "print(len(df_feb))\n",
    "print(len(df_march))\n",
    "#df cleaning\n",
    "def preprocess_tweet(row):\n",
    "    text=row['tweet']\n",
    "    text=p.clean(text)\n",
    "    return text\n",
    "    \n",
    "\n",
    "df_comb['tweet']=df_comb.apply(preprocess_tweet,axis=1)\n",
    "\n",
    "df_comb=pd.DataFrame()\n",
    "df_comb=df_comb.append(df_feb)\n",
    "df_comb=df_comb.append(df_march)\n",
    "print(len(df_comb))\n",
    "\n"
   ]
  },
  {
   "cell_type": "code",
   "execution_count": 73,
   "id": "41ba2a35",
   "metadata": {
    "scrolled": true
   },
   "outputs": [
    {
     "name": "stdout",
     "output_type": "stream",
     "text": [
      "844\n"
     ]
    },
    {
     "data": {
      "text/plain": [
       "Index(['id', 'date', 'hashtags', 'tweet', 'month', 'Month_name'], dtype='object')"
      ]
     },
     "execution_count": 73,
     "metadata": {},
     "output_type": "execute_result"
    }
   ],
   "source": [
    "#remove rows with no hashtags ,Data cleaning\n",
    " \n",
    "df_comb['month'] = pd.DatetimeIndex(df_comb['date']).month\n",
    "print(len(df_cleaned_comb))\n",
    "df_comb.loc[df_comb.month == 3, 'Month_name'] = \"March\"\n",
    "df_comb.loc[df_comb.month == 2, 'Month_name'] = \"Feb\"\n",
    "df_comb.columns"
   ]
  },
  {
   "cell_type": "code",
   "execution_count": 76,
   "id": "8e93c814",
   "metadata": {},
   "outputs": [
    {
     "ename": "TypeError",
     "evalue": "produce_scattertext_explorer() got an unexpected keyword argument 'title'",
     "output_type": "error",
     "traceback": [
      "\u001b[1;31m---------------------------------------------------------------------------\u001b[0m",
      "\u001b[1;31mTypeError\u001b[0m                                 Traceback (most recent call last)",
      "\u001b[1;32m<ipython-input-76-d2a8cddac86e>\u001b[0m in \u001b[0;36m<module>\u001b[1;34m\u001b[0m\n\u001b[0;32m     19\u001b[0m         \u001b[0mtitle\u001b[0m\u001b[1;33m=\u001b[0m\u001b[1;34m'Russia Ukraine War and the dominant Finance  Hashtags'\u001b[0m\u001b[1;33m,\u001b[0m\u001b[1;33m\u001b[0m\u001b[1;33m\u001b[0m\u001b[0m\n\u001b[0;32m     20\u001b[0m \u001b[1;33m\u001b[0m\u001b[0m\n\u001b[1;32m---> 21\u001b[1;33m         \u001b[0mwidth_in_pixels\u001b[0m\u001b[1;33m=\u001b[0m\u001b[1;36m1000\u001b[0m\u001b[1;33m\u001b[0m\u001b[1;33m\u001b[0m\u001b[0m\n\u001b[0m\u001b[0;32m     22\u001b[0m \u001b[1;33m\u001b[0m\u001b[0m\n\u001b[0;32m     23\u001b[0m         )\n",
      "\u001b[1;31mTypeError\u001b[0m: produce_scattertext_explorer() got an unexpected keyword argument 'title'"
     ]
    }
   ],
   "source": [
    "#python -m spacy download en_core_web_sm\n",
    "import spacy\n",
    "import scattertext as st\n",
    "\n",
    "#nlp = spacy.load('en')\n",
    "nlp = spacy.load(\"en_core_web_sm\")\n",
    "\n",
    "corpus = st.CorpusFromPandas(df_comb,\n",
    "                             category_col='Month_name',\n",
    "                             text_col='hashtags',\n",
    "                             nlp=nlp).build()\n",
    "html = st.produce_scattertext_explorer(corpus,\n",
    "\n",
    "        category='Feb',\n",
    "\n",
    "        category_name='Feb',\n",
    "\n",
    "        not_category_name='March',\n",
    "        \n",
    "        width_in_pixels=1000\n",
    "\n",
    "        )\n",
    "\n",
    "month='x'\n",
    "file_name = month+'.html'\n",
    "with open(file_name, 'wb') as fn:\n",
    "    fn.write(html.encode('utf-8'))"
   ]
  },
  {
   "cell_type": "code",
   "execution_count": null,
   "id": "bedf288d",
   "metadata": {},
   "outputs": [],
   "source": []
  },
  {
   "cell_type": "code",
   "execution_count": null,
   "id": "dbe4fcef",
   "metadata": {},
   "outputs": [],
   "source": []
  },
  {
   "cell_type": "code",
   "execution_count": null,
   "id": "72da44c7",
   "metadata": {},
   "outputs": [],
   "source": []
  },
  {
   "cell_type": "code",
   "execution_count": null,
   "id": "01e02429",
   "metadata": {},
   "outputs": [],
   "source": []
  },
  {
   "cell_type": "code",
   "execution_count": null,
   "id": "f7dde893",
   "metadata": {},
   "outputs": [],
   "source": []
  }
 ],
 "metadata": {
  "kernelspec": {
   "display_name": "Python 3",
   "language": "python",
   "name": "python3"
  },
  "language_info": {
   "codemirror_mode": {
    "name": "ipython",
    "version": 3
   },
   "file_extension": ".py",
   "mimetype": "text/x-python",
   "name": "python",
   "nbconvert_exporter": "python",
   "pygments_lexer": "ipython3",
   "version": "3.6.8"
  }
 },
 "nbformat": 4,
 "nbformat_minor": 5
}
