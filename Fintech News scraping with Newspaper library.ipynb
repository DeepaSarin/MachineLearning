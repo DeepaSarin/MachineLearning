{
 "cells": [
  {
   "cell_type": "markdown",
   "id": "a947eadc",
   "metadata": {},
   "source": [
    "<b> <center> Webscraping of News with Newspaper3k Library <b><center>"
   ]
  },
  {
   "cell_type": "code",
   "execution_count": 2,
   "id": "12bad0fa",
   "metadata": {},
   "outputs": [
    {
     "name": "stdout",
     "output_type": "stream",
     "text": [
      "^C\n"
     ]
    }
   ],
   "source": [
    "!pip install newspaper3k"
   ]
  },
  {
   "cell_type": "markdown",
   "id": "3a6dc01e",
   "metadata": {},
   "source": [
    "The code below makes use of Newspaper Library to scrap a news website .Five addresses are added to the scraping list.\n",
    "Try catch is used to ignore the exception cases where sometimes the expecting data is not found in the website.\n",
    "This notebook intends to help with Web scraping for NLP without spending much time on it."
   ]
  },
  {
   "cell_type": "markdown",
   "id": "35c2ec33",
   "metadata": {},
   "source": [
    "Also the time taken for this script to run is calculated .For this example it is approximately 13 seconds."
   ]
  },
  {
   "cell_type": "code",
   "execution_count": 15,
   "id": "a39dab7a",
   "metadata": {},
   "outputs": [
    {
     "name": "stdout",
     "output_type": "stream",
     "text": [
      "Script took 13.36 seconds to complete\n"
     ]
    }
   ],
   "source": [
    "#Imports\n",
    "import itertools\n",
    "import time\n",
    "#Assign time.time() object to \"start\" so we can profile the code.\n",
    "start = time.time()\n",
    "import pandas as pd\n",
    "import numpy as np\n",
    "from newspaper import Article\n",
    "#Load in pickle file with links and slice the first 50 links\n",
    "#links = pd.read_pickle(\"nytimes_links.pkl\")[:50]\n",
    "links=['https://thefintechtimes.com/uipath-how-automation-technology-can-solve-for-tax-seasons-top-challenges/',\n",
    "       'https://www.fintechnews.org/protect-your-crypto-assets-now-use-a-30-discount-on-tickets-to-blockchain-bitcoin-conference-moscow-2022/',\n",
    "       'https://www.livemint.com/market/stock-market-news/stocks-to-watch-tcs-vodafone-idea-vedanta-future-retail-adani-group-11645665304445.html',\n",
    "       'https://www.cnbc.com/2022/02/23/morgan-stanley-says-stick-to-the-fundamentals-as-the-market-worries-over-ukraine.html',\n",
    "       'https://www.cnbc.com/2022/02/23/the-sp-500-is-officially-in-a-correction-why-it-may-be-a-buying-opportunity.html'\n",
    "       ]\n",
    "#Intialize list articles_info list\n",
    "articles_info = []\n",
    "for i in links:\n",
    "    #Intialize dictionary\n",
    "    article_dict = {}\n",
    "    #Insert link \"i\" into the dictionary\n",
    "    article_dict[\"link\"] = i\n",
    "    #Pass link into Article() function\n",
    "    art = Article(i)\n",
    "    #Download contents of art object\n",
    "    art.download()\n",
    "    \n",
    "    #Try/except is included because not all articles can be parsed\n",
    "    try:\n",
    "        #If article can be successfully parsed then insert its text, title, publish_date, keywords\n",
    "        #and summary into corresponding keys\n",
    "        art.parse()\n",
    "        article_dict[\"text\"] = art.text\n",
    "        article_dict[\"title\"] = art.title\n",
    "        article_dict[\"date\"] = art.publish_date\n",
    "        art.nlp()\n",
    "        article_dict[\"key_words\"] = art.keywords\n",
    "        article_dict[\"summary\"] = art.summary\n",
    "        \n",
    "    except :\n",
    "        #If article cannot be parse then insert null values for the following keys:\n",
    "        #\"text\", \"title\", \"date\", \"keywords\", and \"summary\"\n",
    "        article_dict[\"text\"] = np.nan\n",
    "        article_dict[\"title\"] = np.nan\n",
    "        article_dict[\"date\"] = np.nan\n",
    "        article_dict[\"key_words\"] = np.nan\n",
    "        article_dict[\"summary\"] = np.nan\n",
    "        \n",
    "        \n",
    "    #Insert dictionary of article info into the articles_info list\n",
    "    articles_info.append(article_dict)\n",
    "#Pass the list of dictionaries into a pandas data frame\n",
    "corpus = pd.DataFrame(articles_info)\n",
    "#Print how long the process took\n",
    "print(\"Script took {:.2f} seconds to complete\".format(time.time() - start))"
   ]
  },
  {
   "cell_type": "code",
   "execution_count": 16,
   "id": "711904aa",
   "metadata": {},
   "outputs": [
    {
     "data": {
      "text/html": [
       "<div>\n",
       "<style scoped>\n",
       "    .dataframe tbody tr th:only-of-type {\n",
       "        vertical-align: middle;\n",
       "    }\n",
       "\n",
       "    .dataframe tbody tr th {\n",
       "        vertical-align: top;\n",
       "    }\n",
       "\n",
       "    .dataframe thead th {\n",
       "        text-align: right;\n",
       "    }\n",
       "</style>\n",
       "<table border=\"1\" class=\"dataframe\">\n",
       "  <thead>\n",
       "    <tr style=\"text-align: right;\">\n",
       "      <th></th>\n",
       "      <th>link</th>\n",
       "      <th>text</th>\n",
       "      <th>title</th>\n",
       "      <th>date</th>\n",
       "      <th>key_words</th>\n",
       "      <th>summary</th>\n",
       "    </tr>\n",
       "  </thead>\n",
       "  <tbody>\n",
       "    <tr>\n",
       "      <th>0</th>\n",
       "      <td>https://thefintechtimes.com/uipath-how-automat...</td>\n",
       "      <td>With COVID-19 once again compounding the usual...</td>\n",
       "      <td>UiPath: How Automation Technology Can Solve fo...</td>\n",
       "      <td>2022-02-23 10:01:03+00:00</td>\n",
       "      <td>[uipath, technology, sas, challenges, clients,...</td>\n",
       "      <td>With COVID-19 once again compounding the usual...</td>\n",
       "    </tr>\n",
       "    <tr>\n",
       "      <th>1</th>\n",
       "      <td>https://www.fintechnews.org/protect-your-crypt...</td>\n",
       "      <td>How to multiply crypto assets and keep them sa...</td>\n",
       "      <td>Protect Your Crypto Assets Now: Use a 30% Disc...</td>\n",
       "      <td>2022-02-24 06:49:10+00:00</td>\n",
       "      <td>[conference, head, protect, crypto, discount, ...</td>\n",
       "      <td>These and other questions will be discussed by...</td>\n",
       "    </tr>\n",
       "    <tr>\n",
       "      <th>2</th>\n",
       "      <td>https://www.livemint.com/market/stock-market-n...</td>\n",
       "      <td>NEW DELHI: Here are the top 10 stocks that cou...</td>\n",
       "      <td>Stocks to Watch: TCS, Vodafone Idea, Vedanta, ...</td>\n",
       "      <td>2022-02-24 07:59:51+05:30</td>\n",
       "      <td>[equity, idea, stake, vedanta, meet, crore, tc...</td>\n",
       "      <td>This is one of the most significant leadership...</td>\n",
       "    </tr>\n",
       "    <tr>\n",
       "      <th>3</th>\n",
       "      <td>https://www.cnbc.com/2022/02/23/morgan-stanley...</td>\n",
       "      <td>Morgan Stanley says stick to the fundamentals ...</td>\n",
       "      <td>Morgan Stanley says stick to the fundamentals ...</td>\n",
       "      <td>2022-02-23 00:00:00</td>\n",
       "      <td>[feb, est, fundamentals, worries, stick, fed, ...</td>\n",
       "      <td>Morgan Stanley says stick to the fundamentals ...</td>\n",
       "    </tr>\n",
       "    <tr>\n",
       "      <th>4</th>\n",
       "      <td>https://www.cnbc.com/2022/02/23/the-sp-500-is-...</td>\n",
       "      <td>The S&amp;P 500 is officially in a correction. Why...</td>\n",
       "      <td>The S&amp;P 500 is officially in a correction. Why...</td>\n",
       "      <td>2022-02-23 00:00:00</td>\n",
       "      <td>[feb, hours, est, sp, correction, updated, buy...</td>\n",
       "      <td>The S&amp;P 500 is officially in a correction.\\nWh...</td>\n",
       "    </tr>\n",
       "  </tbody>\n",
       "</table>\n",
       "</div>"
      ],
      "text/plain": [
       "                                                link  \\\n",
       "0  https://thefintechtimes.com/uipath-how-automat...   \n",
       "1  https://www.fintechnews.org/protect-your-crypt...   \n",
       "2  https://www.livemint.com/market/stock-market-n...   \n",
       "3  https://www.cnbc.com/2022/02/23/morgan-stanley...   \n",
       "4  https://www.cnbc.com/2022/02/23/the-sp-500-is-...   \n",
       "\n",
       "                                                text  \\\n",
       "0  With COVID-19 once again compounding the usual...   \n",
       "1  How to multiply crypto assets and keep them sa...   \n",
       "2  NEW DELHI: Here are the top 10 stocks that cou...   \n",
       "3  Morgan Stanley says stick to the fundamentals ...   \n",
       "4  The S&P 500 is officially in a correction. Why...   \n",
       "\n",
       "                                               title  \\\n",
       "0  UiPath: How Automation Technology Can Solve fo...   \n",
       "1  Protect Your Crypto Assets Now: Use a 30% Disc...   \n",
       "2  Stocks to Watch: TCS, Vodafone Idea, Vedanta, ...   \n",
       "3  Morgan Stanley says stick to the fundamentals ...   \n",
       "4  The S&P 500 is officially in a correction. Why...   \n",
       "\n",
       "                        date  \\\n",
       "0  2022-02-23 10:01:03+00:00   \n",
       "1  2022-02-24 06:49:10+00:00   \n",
       "2  2022-02-24 07:59:51+05:30   \n",
       "3        2022-02-23 00:00:00   \n",
       "4        2022-02-23 00:00:00   \n",
       "\n",
       "                                           key_words  \\\n",
       "0  [uipath, technology, sas, challenges, clients,...   \n",
       "1  [conference, head, protect, crypto, discount, ...   \n",
       "2  [equity, idea, stake, vedanta, meet, crore, tc...   \n",
       "3  [feb, est, fundamentals, worries, stick, fed, ...   \n",
       "4  [feb, hours, est, sp, correction, updated, buy...   \n",
       "\n",
       "                                             summary  \n",
       "0  With COVID-19 once again compounding the usual...  \n",
       "1  These and other questions will be discussed by...  \n",
       "2  This is one of the most significant leadership...  \n",
       "3  Morgan Stanley says stick to the fundamentals ...  \n",
       "4  The S&P 500 is officially in a correction.\\nWh...  "
      ]
     },
     "execution_count": 16,
     "metadata": {},
     "output_type": "execute_result"
    }
   ],
   "source": [
    "corpus.head()"
   ]
  },
  {
   "cell_type": "code",
   "execution_count": 14,
   "id": "5d180f64",
   "metadata": {},
   "outputs": [
    {
     "data": {
      "text/plain": [
       "'With COVID-19 once again compounding the usual hustle of tax-filing season, the coming weeks loom large for tax preparers.\\nWithin UiPath, Sas coordinates the global activities of UiPath group in the tax, payroll and equity areas, being part of the global leadership team of UiPath.\\nAutomation enables tax preparers to work more efficiently and effectivelyThe IRS advises citizens to submit their 2021 tax returns as soon as possible, which adds immediacy to tax preparers’ workloads.\\nFortunately, with automation, tax preparers can focus more of their bandwidth on offering superior customer service.\\nBy leveraging automation technology, tax preparation firms will be able to handle the upcoming surge in business more adeptly, optimising their tax professionals’ bandwidth to deliver an unprecedented level of service without overwhelming staff.'"
      ]
     },
     "execution_count": 14,
     "metadata": {},
     "output_type": "execute_result"
    }
   ],
   "source": [
    "corpus['summary'][0]"
   ]
  },
  {
   "cell_type": "code",
   "execution_count": null,
   "id": "d5efb526",
   "metadata": {},
   "outputs": [],
   "source": []
  }
 ],
 "metadata": {
  "kernelspec": {
   "display_name": "Python 3",
   "language": "python",
   "name": "python3"
  },
  "language_info": {
   "codemirror_mode": {
    "name": "ipython",
    "version": 3
   },
   "file_extension": ".py",
   "mimetype": "text/x-python",
   "name": "python",
   "nbconvert_exporter": "python",
   "pygments_lexer": "ipython3",
   "version": "3.6.8"
  }
 },
 "nbformat": 4,
 "nbformat_minor": 5
}
